{
  "nbformat": 4,
  "nbformat_minor": 0,
  "metadata": {
    "colab": {
      "provenance": [],
      "authorship_tag": "ABX9TyO5TCdNts5JEEAU1411+XIg",
      "include_colab_link": true
    },
    "kernelspec": {
      "name": "python3",
      "display_name": "Python 3"
    },
    "language_info": {
      "name": "python"
    }
  },
  "cells": [
    {
      "cell_type": "markdown",
      "metadata": {
        "id": "view-in-github",
        "colab_type": "text"
      },
      "source": [
        "<a href=\"https://colab.research.google.com/github/Anjani5G/Extremum_finder/blob/main/extremum.ipynb\" target=\"_parent\"><img src=\"https://colab.research.google.com/assets/colab-badge.svg\" alt=\"Open In Colab\"/></a>"
      ]
    },
    {
      "cell_type": "code",
      "execution_count": 76,
      "metadata": {
        "id": "5Xm6-dgKl_-S"
      },
      "outputs": [],
      "source": [
        "import numpy as np\n",
        "import pandas as pd\n",
        "import matplotlib.pyplot as plt\n",
        "import os\n",
        "import cv2\n",
        "import tensorflow as tf\n",
        "from google.colab.patches import cv2_imshow\n",
        "from sklearn.model_selection import train_test_split"
      ]
    },
    {
      "cell_type": "markdown",
      "source": [
        "## Making a suitable dataset"
      ],
      "metadata": {
        "id": "RywfdGTfmbdo"
      }
    },
    {
      "cell_type": "code",
      "source": [
        "# generating cummulative monotonic functions\n",
        "for i in range(100):\n",
        "  x = np.linspace(0, 10+np.random.normal(0, 2), 100)\n",
        "  y = np.random.uniform(0,1,100)\n",
        "  df = pd.DataFrame(data = {'x':x, 'random':y})\n",
        "  df['y'] = df['random'].cumsum()\n",
        "  if np.random.randint(low=0,high=2) == 1:\n",
        "    df['y'] = np.flip(df['y'].to_xarray())\n",
        "  plt.plot(df.x, df.y)\n",
        "  plt.savefig(f'data/data_{i}N.png')\n",
        "  plt.clf()\n",
        "\n",
        "# generating piece-wise linear monotonic functions\n",
        "for i in range(100):\n",
        "  x = np.linspace(0, 10 + np.random.normal(0, 2), 100)\n",
        "  y = [i + np.random.uniform(0,1) for i in x]\n",
        "  df = pd.DataFrame(data = {'x':x, 'y':y})\n",
        "  if np.random.randint(low=0,high=2) == 1:\n",
        "    df['y'] = np.flip(df['y'].to_xarray())\n",
        "  plt.plot(df.x, df.y)\n",
        "  plt.savefig(f'data/data_{i}Y.png')\n",
        "  plt.clf()"
      ],
      "metadata": {
        "colab": {
          "base_uri": "https://localhost:8080/",
          "height": 34
        },
        "id": "WhUue7N1mQw0",
        "outputId": "52bcd3cd-012a-4335-ce9a-459198465cb2"
      },
      "execution_count": 77,
      "outputs": [
        {
          "output_type": "display_data",
          "data": {
            "text/plain": [
              "<Figure size 640x480 with 0 Axes>"
            ]
          },
          "metadata": {}
        }
      ]
    },
    {
      "cell_type": "markdown",
      "source": [
        "## Loading and training the model"
      ],
      "metadata": {
        "id": "bOQ9f3jT6XsB"
      }
    },
    {
      "cell_type": "code",
      "source": [
        "# Define the directory containing the images\n",
        "data_dir = 'data'\n",
        "\n",
        "# Initialize lists to hold the data and labels\n",
        "image_data = []\n",
        "labels = []\n",
        "\n",
        "# Iterate over the files in the directory\n",
        "for filename in os.listdir(data_dir):\n",
        "    if filename.endswith('.png'):\n",
        "        # Load the image\n",
        "        img_path = os.path.join(data_dir, filename)\n",
        "        img = cv2.imread(img_path, cv2.IMREAD_GRAYSCALE)  # Read the image as grayscale\n",
        "        img_resized = cv2.resize(img, (640, 480))  # Resize the image to 640x480 pixels\n",
        "        img_array = img_resized / 255.0  # Normalize the image to [0, 1]\n",
        "\n",
        "        # Append the image data and label to the lists\n",
        "        image_data.append(img_array)\n",
        "        label = filename.split('_')[-1][1]  # Extract label ('N' or 'Y')\n",
        "        labels.append(label)\n",
        "\n",
        "# Convert lists to numpy arrays\n",
        "image_data = np.array(image_data)\n",
        "labels = np.array(labels)\n",
        "\n",
        "# Reshape the image data to include a channel dimension for grayscale\n",
        "image_data = image_data.reshape(-1, 480, 640, 1)\n",
        "\n",
        "# Print the shape of the image data and labels to verify\n",
        "print(\"Image data shape:\", image_data.shape)\n",
        "print(\"Labels shape:\", labels.shape)\n",
        "\n",
        "# Encode the labels as integers (0 for 'N', 1 for 'Y')\n",
        "labels_encoded = np.array([0 if label == 'N' else 1 for label in labels])\n",
        "\n",
        "# ---\n",
        "\n",
        "# Split the data into training and testing sets\n",
        "X_train, X_test, y_train, y_test = train_test_split(image_data, labels_encoded, test_size=0.2, random_state=42)\n",
        "\n",
        "# Print the shapes of the training and testing sets\n",
        "print(\"X_train shape:\", X_train.shape)\n",
        "print(\"X_test shape:\", X_test.shape)\n",
        "print(\"y_train shape:\", y_train.shape)\n",
        "print(\"y_test shape:\", y_test.shape)\n",
        "\n",
        "# ---\n",
        "\n",
        "# Define the CNN model\n",
        "model = tf.keras.models.Sequential([\n",
        "    tf.keras.layers.Conv2D(32, (3, 3), activation='relu', input_shape=(480, 640, 1)),\n",
        "    tf.keras.layers.MaxPooling2D((2, 2)),\n",
        "    tf.keras.layers.Conv2D(64, (3, 3), activation='relu'),\n",
        "    tf.keras.layers.MaxPooling2D((2, 2)),\n",
        "    tf.keras.layers.Conv2D(128, (3, 3), activation='relu'),\n",
        "    tf.keras.layers.MaxPooling2D((2, 2)),\n",
        "    tf.keras.layers.Conv2D(128, (3, 3), activation='relu'),\n",
        "    tf.keras.layers.MaxPooling2D((2, 2)),\n",
        "    tf.keras.layers.Flatten(),\n",
        "    tf.keras.layers.Dense(512, activation='relu'),\n",
        "    tf.keras.layers.Dense(1, activation='sigmoid')\n",
        "])\n",
        "\n",
        "# Compile the model\n",
        "model.compile(optimizer='adam',\n",
        "              loss='binary_crossentropy',\n",
        "              metrics=['accuracy'])\n",
        "\n",
        "# Print the model summary\n",
        "model.summary()\n",
        "\n",
        "# -------------\n",
        "\n",
        "# Train the model\n",
        "history = model.fit(X_train, y_train, epochs=10, batch_size=32, validation_data=(X_test, y_test))\n",
        "\n",
        "# ---------\n",
        "\n",
        "# Evaluate the model on the test set\n",
        "test_loss, test_accuracy = model.evaluate(X_test, y_test)\n",
        "print(f'Test Accuracy: {test_accuracy * 100:.2f}%')\n"
      ],
      "metadata": {
        "colab": {
          "base_uri": "https://localhost:8080/"
        },
        "id": "YOcp2Tzu8IXd",
        "outputId": "a7de73f6-90d8-4b51-c268-8e21b2308253"
      },
      "execution_count": 86,
      "outputs": [
        {
          "output_type": "stream",
          "name": "stdout",
          "text": [
            "Image data shape: (200, 480, 640, 1)\n",
            "Labels shape: (200,)\n",
            "X_train shape: (160, 480, 640, 1)\n",
            "X_test shape: (40, 480, 640, 1)\n",
            "y_train shape: (160,)\n",
            "y_test shape: (40,)\n",
            "Model: \"sequential_5\"\n",
            "_________________________________________________________________\n",
            " Layer (type)                Output Shape              Param #   \n",
            "=================================================================\n",
            " conv2d_8 (Conv2D)           (None, 478, 638, 32)      320       \n",
            "                                                                 \n",
            " max_pooling2d_8 (MaxPoolin  (None, 239, 319, 32)      0         \n",
            " g2D)                                                            \n",
            "                                                                 \n",
            " conv2d_9 (Conv2D)           (None, 237, 317, 64)      18496     \n",
            "                                                                 \n",
            " max_pooling2d_9 (MaxPoolin  (None, 118, 158, 64)      0         \n",
            " g2D)                                                            \n",
            "                                                                 \n",
            " conv2d_10 (Conv2D)          (None, 116, 156, 128)     73856     \n",
            "                                                                 \n",
            " max_pooling2d_10 (MaxPooli  (None, 58, 78, 128)       0         \n",
            " ng2D)                                                           \n",
            "                                                                 \n",
            " conv2d_11 (Conv2D)          (None, 56, 76, 128)       147584    \n",
            "                                                                 \n",
            " max_pooling2d_11 (MaxPooli  (None, 28, 38, 128)       0         \n",
            " ng2D)                                                           \n",
            "                                                                 \n",
            " flatten_2 (Flatten)         (None, 136192)            0         \n",
            "                                                                 \n",
            " dense_7 (Dense)             (None, 512)               69730816  \n",
            "                                                                 \n",
            " dense_8 (Dense)             (None, 1)                 513       \n",
            "                                                                 \n",
            "=================================================================\n",
            "Total params: 69971585 (266.92 MB)\n",
            "Trainable params: 69971585 (266.92 MB)\n",
            "Non-trainable params: 0 (0.00 Byte)\n",
            "_________________________________________________________________\n",
            "Epoch 1/10\n",
            "5/5 [==============================] - 137s 27s/step - loss: 0.6207 - accuracy: 0.7812 - val_loss: 0.7540 - val_accuracy: 0.9250\n",
            "Epoch 2/10\n",
            "5/5 [==============================] - 136s 28s/step - loss: 0.3225 - accuracy: 0.9563 - val_loss: 0.3015 - val_accuracy: 0.9250\n",
            "Epoch 3/10\n",
            "5/5 [==============================] - 131s 27s/step - loss: 0.2505 - accuracy: 0.9563 - val_loss: 0.4596 - val_accuracy: 0.9250\n",
            "Epoch 4/10\n",
            "5/5 [==============================] - 131s 26s/step - loss: 0.2450 - accuracy: 0.9563 - val_loss: 0.2997 - val_accuracy: 0.9250\n",
            "Epoch 5/10\n",
            "5/5 [==============================] - 131s 27s/step - loss: 0.2018 - accuracy: 0.9563 - val_loss: 0.2850 - val_accuracy: 0.9250\n",
            "Epoch 6/10\n",
            "5/5 [==============================] - 131s 27s/step - loss: 0.1927 - accuracy: 0.9563 - val_loss: 0.2803 - val_accuracy: 0.9250\n",
            "Epoch 7/10\n",
            "5/5 [==============================] - 137s 27s/step - loss: 0.1844 - accuracy: 0.9563 - val_loss: 0.2745 - val_accuracy: 0.9250\n",
            "Epoch 8/10\n",
            "5/5 [==============================] - 131s 27s/step - loss: 0.1870 - accuracy: 0.9563 - val_loss: 0.2721 - val_accuracy: 0.9250\n",
            "Epoch 9/10\n",
            "5/5 [==============================] - 130s 26s/step - loss: 0.1827 - accuracy: 0.9563 - val_loss: 0.2706 - val_accuracy: 0.9250\n",
            "Epoch 10/10\n",
            "5/5 [==============================] - 137s 28s/step - loss: 0.1904 - accuracy: 0.9563 - val_loss: 0.2767 - val_accuracy: 0.9250\n",
            "2/2 [==============================] - 8s 2s/step - loss: 0.2767 - accuracy: 0.9250\n",
            "Test Accuracy: 92.50%\n"
          ]
        }
      ]
    },
    {
      "cell_type": "code",
      "source": [],
      "metadata": {
        "id": "a6YELDrq9Dpl"
      },
      "execution_count": null,
      "outputs": []
    }
  ]
}